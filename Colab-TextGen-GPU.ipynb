{
  "nbformat": 4,
  "nbformat_minor": 0,
  "metadata": {
    "colab": {
      "private_outputs": true,
      "provenance": [],
      "include_colab_link": true
    },
    "kernelspec": {
      "name": "python3",
      "display_name": "Python 3"
    },
    "language_info": {
      "name": "python"
    },
    "accelerator": "GPU",
    "gpuClass": "standard"
  },
  "cells": [
    {
      "cell_type": "markdown",
      "metadata": {
        "id": "view-in-github",
        "colab_type": "text"
      },
      "source": [
        "<a href=\"https://colab.research.google.com/github/81300/AI-Notebooks/blob/testing/Colab-TextGen-GPU.ipynb\" target=\"_parent\"><img src=\"https://colab.research.google.com/assets/colab-badge.svg\" alt=\"Open In Colab\"/></a>"
      ]
    },
    {
      "cell_type": "markdown",
      "source": [
        "# LLM text generation notebook for Google Colab\n",
        "\n",
        "Version: GPU\n",
        "\n",
        "This notebook uses **oobabooga**'s [text-generation-webui project](https://github.com/oobabooga/text-generation-webui). Read [this page](https://github.com/oobabooga/text-generation-webui/blob/main/README.md) and [the wiki](https://github.com/oobabooga/text-generation-webui/wiki) to learn more about the available features. Check out his own updated Colab [here](https://colab.research.google.com/github/oobabooga/AI-Notebooks/blob/main/Colab-TextGen-GPU.ipynb).\n",
        "\n",
        "For PygmalionAI models you can create your custom characters using the [JSON character creator](https://oobabooga.github.io/character-creator.html).\n",
        "\n",
        "---\n",
        "\n",
        "Run all the cells and a public gradio URL will appear at the bottom."
      ],
      "metadata": {
        "id": "MFQl6-FjSYtY"
      }
    },
    {
      "cell_type": "code",
      "source": [
        "#@title 1. Keep this tab alive to prevent Colab from disconnecting you { display-mode: \"form\" }\n",
        "\n",
        "# From: https://github.com/henk717/KoboldAI\n",
        "#@markdown Press play on the music player to keep the tab alive (uses only 13MB of data).\n",
        "%%html\n",
        "<audio src=\"https://henk.tech/colabkobold/silence.m4a\" controls>"
      ],
      "metadata": {
        "id": "f7TVVj_z4flw"
      },
      "execution_count": null,
      "outputs": []
    },
    {
      "cell_type": "code",
      "source": [
        "#@title 2. Install the web UI\n",
        "\n",
        "Enable_Google_Drive = False #@param {type:\"boolean\"}\n",
        "\n",
        "\n",
        "import os\n",
        "repo_runtime_path = \"/content/Colab-TextGen/\"\n",
        "repo_drive_path = \"/content/drive/MyDrive/Colab-TextGen/\"\n",
        "if Enable_Google_Drive:\n",
        "  from google.colab import drive\n",
        "  drive.mount('/content/drive')\n",
        "  repo_path = repo_drive_path\n",
        "else:\n",
        "  repo_path = repo_runtime_path\n",
        "if not os.path.exists(repo_path):\n",
        "  os.mkdir(repo_path)\n",
        "\n",
        "\n",
        "# The web UI\n",
        "%cd $repo_path\n",
        "![[ ! -d .git ]] && git clone https://github.com/oobabooga/text-generation-webui .\n",
        "!git pull\n",
        "!pip install --no-cache-dir --progress-bar=off --upgrade -r requirements.txt -r extensions/google_translate/requirements.txt\n",
        "!wget -O settings-colab.json https://oobabooga.github.io/settings-colab.json\n",
        "!cp -a settings-colab.json settings-colab-template.json"
      ],
      "metadata": {
        "id": "F1mssJmZ5BMg",
        "cellView": "form"
      },
      "execution_count": null,
      "outputs": []
    },
    {
      "cell_type": "code",
      "source": [
        "#@title 3. Select a model\n",
        "\n",
        "Model = \"Pygmalion 6B original (sharded, rehosted)\" #@param [\"Pygmalion 6B main\", \"Pygmalion 6B main (sharded, rehosted)\", \"Pygmalion 6B original\", \"Pygmalion 6B original (sharded, rehosted)\", \"Pygmalion 6B dev\", \"Pygmalion 2.7B\", \"Pygmalion 1.3B\", \"Pygmalion 350M\"] {allow-input: false}\n",
        "Delete_all_models = False #@param {type: \"boolean\"}\n",
        "\n",
        "models = {\n",
        "    \"Pygmalion 6B main\": (\"PygmalionAI\", \"pygmalion-6b\", \"main\", \"pygmalion-6b\"),\n",
        "    \"Pygmalion 6B main (sharded, rehosted)\": (\"ayylamo\", \"pygmalion-6b\", \"sharded\", \"pygmalion-6b_sharded\"),\n",
        "    \"Pygmalion 6B original\": (\"PygmalionAI\", \"pygmalion-6b\", \"b8344bb4eb76a437797ad3b19420a13922aaabe1\", \"pygmalion-6b_b8344bb4eb76a437797ad3b19420a13922aaabe1\"),\n",
        "    \"Pygmalion 6B original (sharded, rehosted)\": (\"ayylamo\", \"pygmalion-6b\", \"original-sharded\", \"pygmalion-6b_original-sharded\"),\n",
        "    \"Pygmalion 6B dev\": (\"PygmalionAI\", \"pygmalion-6b\", \"dev\", \"pygmalion-6b_dev\"),\n",
        "    \"Pygmalion 2.7B\": (\"PygmalionAI\", \"pygmalion-2.7b\", \"main\", \"pygmalion-2.7b\"),\n",
        "    \"Pygmalion 1.3B\": (\"PygmalionAI\", \"pygmalion-1.3b\", \"main\", \"pygmalion-1.3b\"),\n",
        "    \"Pygmalion 350M\": (\"PygmalionAI\", \"pygmalion-350m\", \"main\", \"pygmalion-350m\")\n",
        "}\n",
        "huggingface_org, huggingface_repo, huggingface_branch, model_name = models[Model]\n",
        "models_path = repo_path + f\"models\"\n",
        "\n",
        "\n",
        "if Delete_all_models:\n",
        "  !find $models_path -mindepth 1 -maxdepth 1 -type d -exec rm -rv \"{}\" \\;\n",
        "\n",
        "%cd $repo_path\n",
        "![[ ! -f models/$model_name/config.json ]] && python download-model.py $huggingface_org/$huggingface_repo --branch $huggingface_branch"
      ],
      "metadata": {
        "id": "yyl9TGSoRIwV",
        "cellView": "form"
      },
      "execution_count": null,
      "outputs": []
    },
    {
      "cell_type": "code",
      "source": [
        "#@title 4. Launch\n",
        "\n",
        "UI_mode = \"Chat\" #@param [\"Chat\", \"Notebook\"] {allow-input: false}\n",
        "Chat_language = \"English\" # @param ['Afrikaans', 'Albanian', 'Amharic', 'Arabic', 'Armenian', 'Azerbaijani', 'Basque', 'Belarusian', 'Bengali', 'Bosnian', 'Bulgarian', 'Catalan', 'Cebuano', 'Chinese (Simplified)', 'Chinese (Traditional)', 'Corsican', 'Croatian', 'Czech', 'Danish', 'Dutch', 'English', 'Esperanto', 'Estonian', 'Finnish', 'French', 'Frisian', 'Galician', 'Georgian', 'German', 'Greek', 'Gujarati', 'Haitian Creole', 'Hausa', 'Hawaiian', 'Hebrew', 'Hindi', 'Hmong', 'Hungarian', 'Icelandic', 'Igbo', 'Indonesian', 'Irish', 'Italian', 'Japanese', 'Javanese', 'Kannada', 'Kazakh', 'Khmer', 'Korean', 'Kurdish', 'Kyrgyz', 'Lao', 'Latin', 'Latvian', 'Lithuanian', 'Luxembourgish', 'Macedonian', 'Malagasy', 'Malay', 'Malayalam', 'Maltese', 'Maori', 'Marathi', 'Mongolian', 'Myanmar (Burmese)', 'Nepali', 'Norwegian', 'Nyanja (Chichewa)', 'Pashto', 'Persian', 'Polish', 'Portuguese (Portugal, Brazil)', 'Punjabi', 'Romanian', 'Russian', 'Samoan', 'Scots Gaelic', 'Serbian', 'Sesotho', 'Shona', 'Sindhi', 'Sinhala (Sinhalese)', 'Slovak', 'Slovenian', 'Somali', 'Spanish', 'Sundanese', 'Swahili', 'Swedish', 'Tagalog (Filipino)', 'Tajik', 'Tamil', 'Telugu', 'Thai', 'Turkish', 'Ukrainian', 'Urdu', 'Uzbek', 'Vietnamese', 'Welsh', 'Xhosa', 'Yiddish', 'Yoruba', 'Zulu']\n",
        "language_codes = {'Afrikaans': 'af', 'Albanian': 'sq', 'Amharic': 'am', 'Arabic': 'ar', 'Armenian': 'hy', 'Azerbaijani': 'az', 'Basque': 'eu', 'Belarusian': 'be', 'Bengali': 'bn', 'Bosnian': 'bs', 'Bulgarian': 'bg', 'Catalan': 'ca', 'Cebuano': 'ceb', 'Chinese (Simplified)': 'zh-CN', 'Chinese (Traditional)': 'zh-TW', 'Corsican': 'co', 'Croatian': 'hr', 'Czech': 'cs', 'Danish': 'da', 'Dutch': 'nl', 'English': 'en', 'Esperanto': 'eo', 'Estonian': 'et', 'Finnish': 'fi', 'French': 'fr', 'Frisian': 'fy', 'Galician': 'gl', 'Georgian': 'ka', 'German': 'de', 'Greek': 'el', 'Gujarati': 'gu', 'Haitian Creole': 'ht', 'Hausa': 'ha', 'Hawaiian': 'haw', 'Hebrew': 'iw', 'Hindi': 'hi', 'Hmong': 'hmn', 'Hungarian': 'hu', 'Icelandic': 'is', 'Igbo': 'ig', 'Indonesian': 'id', 'Irish': 'ga', 'Italian': 'it', 'Japanese': 'ja', 'Javanese': 'jw', 'Kannada': 'kn', 'Kazakh': 'kk', 'Khmer': 'km', 'Korean': 'ko', 'Kurdish': 'ku', 'Kyrgyz': 'ky', 'Lao': 'lo', 'Latin': 'la', 'Latvian': 'lv', 'Lithuanian': 'lt', 'Luxembourgish': 'lb', 'Macedonian': 'mk', 'Malagasy': 'mg', 'Malay': 'ms', 'Malayalam': 'ml', 'Maltese': 'mt', 'Maori': 'mi', 'Marathi': 'mr', 'Mongolian': 'mn', 'Myanmar (Burmese)': 'my', 'Nepali': 'ne', 'Norwegian': 'no', 'Nyanja (Chichewa)': 'ny', 'Pashto': 'ps', 'Persian': 'fa', 'Polish': 'pl', 'Portuguese (Portugal, Brazil)': 'pt', 'Punjabi': 'pa', 'Romanian': 'ro', 'Russian': 'ru', 'Samoan': 'sm', 'Scots Gaelic': 'gd', 'Serbian': 'sr', 'Sesotho': 'st', 'Shona': 'sn', 'Sindhi': 'sd', 'Sinhala (Sinhalese)': 'si', 'Slovak': 'sk', 'Slovenian': 'sl', 'Somali': 'so', 'Spanish': 'es', 'Sundanese': 'su', 'Swahili': 'sw', 'Swedish': 'sv', 'Tagalog (Filipino)': 'tl', 'Tajik': 'tg', 'Tamil': 'ta', 'Telugu': 'te', 'Thai': 'th', 'Turkish': 'tr', 'Ukrainian': 'uk', 'Urdu': 'ur', 'Uzbek': 'uz', 'Vietnamese': 'vi', 'Welsh': 'cy', 'Xhosa': 'xh', 'Yiddish': 'yi', 'Yoruba': 'yo', 'Zulu': 'zu'}\n",
        "\n",
        "\n",
        "%cd $repo_path\n",
        "if UI_mode == \"Chat\" and Chat_language == \"English\":\n",
        "  !python server.py --share --model $model_name --settings settings-colab.json --cai-chat\n",
        "elif UI_mode == \"Chat\" and Chat_language != \"English\":\n",
        "  import json\n",
        "  j = json.loads(open('settings-colab-template.json', 'r').read())\n",
        "  j[\"google_translate-language string\"] = language_codes[Chat_language]\n",
        "  with open('settings-colab.json', 'w') as f:\n",
        "    f.write(json.dumps(j, indent=4))\n",
        "  !python server.py --share --model $model_name --settings settings-colab.json --cai-chat --extensions google_translate --no-stream\n",
        "elif UI_mode == \"Notebook\":\n",
        "  !python server.py --share --model $model_name --settings settings-colab.json --notebook\n",
        "else:\n",
        "  print(\"No valid mode selected!\")"
      ],
      "metadata": {
        "id": "txeAxCGyRK1F",
        "cellView": "form"
      },
      "execution_count": null,
      "outputs": []
    }
  ]
}