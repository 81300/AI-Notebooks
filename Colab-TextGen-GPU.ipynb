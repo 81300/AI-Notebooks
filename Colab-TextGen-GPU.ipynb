{
  "nbformat": 4,
  "nbformat_minor": 0,
  "metadata": {
    "colab": {
      "private_outputs": true,
      "provenance": [],
      "authorship_tag": "ABX9TyMNSlMwNflYHC84Wd2ZKICO"
    },
    "kernelspec": {
      "name": "python3",
      "display_name": "Python 3"
    },
    "language_info": {
      "name": "python"
    },
    "accelerator": "GPU",
    "gpuClass": "standard"
  },
  "cells": [
    {
      "cell_type": "markdown",
      "source": [
        "# Alternative PygmalionAI notebook for Google Colab\n",
        "\n",
        "Version: GPU\n",
        "\n",
        "This notebook is an unofficial method to run [PygmalionAI LLM models](https://github.com/PygmalionAI) that uses **oobabooga**'s [text-generation-webui project](https://github.com/oobabooga/text-generation-webui).\n",
        "\n",
        "Run the cells below in order to set it up.\n",
        "\n",
        "---\n",
        "\n",
        "After completing step 3 you may upload your character definitions in `.json` format to [Google Drive](https://drive.google.com/) by navigating to the following directory:\n",
        "  * **My Drive** &rarr; **Colab-TextGen** &rarr; **characters**\n",
        "\n",
        "At the end of step 5 click on the `.gradio.live` link to access the web interface."
      ],
      "metadata": {
        "id": "MFQl6-FjSYtY"
      }
    },
    {
      "cell_type": "code",
      "source": [
        "#@title 1. Keep this tab alive to prevent Colab from disconnecting you { display-mode: \"form\" }\n",
        "\n",
        "# From: https://github.com/henk717/KoboldAI\n",
        "\n",
        "%%html\n",
        "<b>Press play on the music player to keep the tab alive (Uses only 13MB of data)</b><br/>\n",
        "<audio src=\"https://henk.tech/colabkobold/silence.m4a\" controls>"
      ],
      "metadata": {
        "id": "f7TVVj_z4flw"
      },
      "execution_count": null,
      "outputs": []
    },
    {
      "cell_type": "code",
      "source": [
        "#@title 2. Prepare the Conda environment\n",
        "\n",
        "%cd /tmp\n",
        "!wget -c https://repo.anaconda.com/miniconda/Miniconda3-latest-Linux-x86_64.sh\n",
        "%env PYTHONPATH=\n",
        "!which conda 2>/dev/null || bash Miniconda3-latest-Linux-x86_64.sh -b -p /usr/local -f\n",
        "\n",
        "%env CI=true\n",
        "!conda update -y -q -c defaults --all\n",
        "!conda install -y -q -c defaults conda python\n",
        "!conda install -y -q -c pytorch -c nvidia pytorch torchvision torchaudio pytorch-cuda=11.7\n",
        "!conda clean -y -q --all"
      ],
      "metadata": {
        "id": "LGQ8BiMuXMDG",
        "cellView": "form"
      },
      "execution_count": null,
      "outputs": []
    },
    {
      "cell_type": "code",
      "source": [
        "#@title 3. Clone the repository into your Google Drive and install dependencies\n",
        "\n",
        "from google.colab import drive\n",
        "drive.mount('/content/drive')\n",
        "\n",
        "!mkdir -p /content/drive/MyDrive\n",
        "!git -C /content/drive/MyDrive/Colab-TextGen pull || git clone https://github.com/oobabooga/text-generation-webui /content/drive/MyDrive/Colab-TextGen\n",
        "%cd /content/drive/MyDrive/Colab-TextGen\n",
        "!pip install --no-cache-dir --progress-bar=off --root-user-action=ignore -r requirements.txt bitsandbytes"
      ],
      "metadata": {
        "id": "F1mssJmZ5BMg",
        "cellView": "form"
      },
      "execution_count": null,
      "outputs": []
    },
    {
      "cell_type": "code",
      "source": [
        "#@title 4. Select and download a PygmalionAI model\n",
        "\n",
        "Model = \"Pygmalion 6B\" #@param [\"Pygmalion 6B\", \"Pygmalion 1.3B\"] {allow-input: true}\n",
        "\n",
        "if Model == \"Pygmalion 6B\":\n",
        "  huggingface_org = \"PygmalionAI\"\n",
        "  chosen_model = \"pygmalion-6b\"\n",
        "elif Model == \"Pygmalion 1.3B\":\n",
        "  huggingface_org = \"PygmalionAI\"\n",
        "  chosen_model = \"pygmalion-1.3b\"\n",
        "\n",
        "%cd /content/drive/MyDrive/Colab-TextGen\n",
        "!mkdir -p /content/models/$chosen_model\n",
        "!ln -s -f /content/models/$chosen_model/ models/$chosen_model\n",
        "![[ ! -f models/$chosen_model/config.json ]] && python download-model.py $huggingface_org/$chosen_model"
      ],
      "metadata": {
        "cellView": "form",
        "id": "yyl9TGSoRIwV"
      },
      "execution_count": null,
      "outputs": []
    },
    {
      "cell_type": "code",
      "source": [
        "#@title 5. Launch the web interface\n",
        "\n",
        "!cd /content/drive/MyDrive/Colab-TextGen\n",
        "!python server.py --cai-chat --share --auto-devices --load-in-8bit --model $chosen_model"
      ],
      "metadata": {
        "cellView": "form",
        "id": "txeAxCGyRK1F"
      },
      "execution_count": null,
      "outputs": []
    }
  ]
}